{
 "cells": [
  {
   "cell_type": "markdown",
   "metadata": {},
   "source": [
    "# OpenCV"
   ]
  },
  {
   "cell_type": "markdown",
   "metadata": {},
   "source": [
    "-understanding images,videos\n",
    "\n",
    "-manipulating and retreving data\n",
    "\n",
    "-mostly used for AI\n",
    "\n",
    "-can process images and videos to identify objects and presons"
   ]
  },
  {
   "cell_type": "markdown",
   "metadata": {},
   "source": [
    "***Applications***\n",
    "\n",
    "-facial recognition\n",
    "\n",
    "-automated inspection\n",
    "\n",
    "-In medical field"
   ]
  },
  {
   "cell_type": "markdown",
   "metadata": {},
   "source": [
    "***Image Processing***\n",
    "\n",
    "It is the analysis and manipulation of a digitized image,especially to improve quality"
   ]
  },
  {
   "cell_type": "markdown",
   "metadata": {},
   "source": [
    "***opencv commands***\n",
    "\n",
    "1.reading image\n",
    "\n",
    "2.extracting rgb values\n",
    "\n",
    "3.extracting the region of interesr\n",
    "\n",
    "4.resizing the image\n",
    "\n",
    "5.rotating the image\n",
    "\n",
    "6.drawing a rectangle\n",
    "\n",
    "7.displaying text"
   ]
  },
  {
   "cell_type": "markdown",
   "metadata": {},
   "source": [
    "# working of commands"
   ]
  },
  {
   "cell_type": "markdown",
   "metadata": {},
   "source": [
    "**1.reading an image**\n",
    "\n",
    "-import opencv2: import cv2\n",
    "\n",
    "-reading the image: img=cv2.imread('image.png')\n",
    "\n",
    "-extracting the height and width: h,w=img.shape[:2]\n",
    "\n",
    "-displaying the height and width write print statement"
   ]
  },
  {
   "cell_type": "markdown",
   "metadata": {},
   "source": [
    "**2.Extracting rgb values**\n",
    "\n",
    "we can randomly take a pixel by passing h,w as 100,100 \n",
    "-(B,G,R)=img[100,100]\n",
    "\n",
    "-only one channel we use: B=image[100,100,0]\n",
    "(if we want green it will be 1,for red it will be 2)"
   ]
  },
  {
   "cell_type": "markdown",
   "metadata": {},
   "source": [
    "**3.Extract the region of interest(ROI)**\n",
    "\n",
    "-we can calculate thr roi by slicing the pixels of the image using: roi=img[xvalues,yvalues]\n",
    "\n",
    "roi=img[100:500,200:700]"
   ]
  },
  {
   "cell_type": "markdown",
   "metadata": {},
   "source": [
    "**4.resizing the image**\n",
    "\n",
    "-takes 2 parameters image and pixelvalues: re=cv2.resize(image_name,(new_pixel_size))\n",
    "\n",
    "-resize=cv2.resize(image,(800,800))"
   ]
  },
  {
   "cell_type": "markdown",
   "metadata": {},
   "source": [
    "**5.rotating the image**\n",
    "\n",
    "-calculate the center of the image:\n",
    "\n",
    "center = (w//2,h//2)\n",
    "\n",
    "-generating the rotation matrix:\n",
    "\n",
    "matrix=cv2.getRotationMatrix2D(center,-45,1.0)\n",
    "\n",
    "-Performing the affine transformation(actually rotate the image)\n",
    "\n",
    "rotated=cv2.wrapAffine(image,matrix,(w,h))"
   ]
  },
  {
   "cell_type": "markdown",
   "metadata": {},
   "source": [
    "**6.drawing a rectangle**\n",
    "\n",
    "-copy the image(original)\n",
    "\n",
    "output=img.copy()\n",
    "\n",
    "-using rectagle function to create a rectangle:\n",
    "\n",
    "rec=cv2.rectangle(output,(1500,900),(600,400),(255,0,0),2)\n",
    "\n",
    "the arguments from above are :image,top-left,bottom-right,BGR,line width"
   ]
  },
  {
   "cell_type": "markdown",
   "metadata": {},
   "source": [
    "**7.displaying text**\n",
    "\n",
    "-copyimage:\n",
    "\n",
    "out=img.copy()\n",
    "\n",
    "-adding text:\n",
    "\n",
    "text=cv2.putText(out,'opencvdemo',(500,500),cv2._font_style_,font_size,line_width)"
   ]
  },
  {
   "cell_type": "code",
   "execution_count": 2,
   "metadata": {},
   "outputs": [
    {
     "name": "stdout",
     "output_type": "stream",
     "text": [
      "Collecting opencv-python\n",
      "  Downloading opencv_python-4.6.0.66-cp36-abi3-win_amd64.whl (35.6 MB)\n",
      "Requirement already satisfied: numpy>=1.17.3; python_version >= \"3.8\" in c:\\users\\satwika\\anaconda3\\lib\\site-packages (from opencv-python) (1.22.2)\n",
      "Installing collected packages: opencv-python\n",
      "Successfully installed opencv-python-4.6.0.66\n",
      "Note: you may need to restart the kernel to use updated packages.\n"
     ]
    }
   ],
   "source": [
    "pip install opencv-python"
   ]
  },
  {
   "cell_type": "code",
   "execution_count": 3,
   "metadata": {},
   "outputs": [],
   "source": [
    "import cv2\n",
    "from matplotlib import pyplot as plt"
   ]
  },
  {
   "cell_type": "code",
   "execution_count": null,
   "metadata": {},
   "outputs": [],
   "source": [
    "#converting image to rgb and grayscale\n",
    "img_grey=cv2.cvtColor(img,cv.COLOR_BGR2GRAY)\n",
    "img_grey=cv2.cvtColor(img,cv.COLOR_BGR2RGB)"
   ]
  }
 ],
 "metadata": {
  "kernelspec": {
   "display_name": "Python 3",
   "language": "python",
   "name": "python3"
  },
  "language_info": {
   "codemirror_mode": {
    "name": "ipython",
    "version": 3
   },
   "file_extension": ".py",
   "mimetype": "text/x-python",
   "name": "python",
   "nbconvert_exporter": "python",
   "pygments_lexer": "ipython3",
   "version": "3.8.5"
  }
 },
 "nbformat": 4,
 "nbformat_minor": 4
}
